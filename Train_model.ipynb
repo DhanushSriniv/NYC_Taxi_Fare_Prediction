{
  "cells": [
    {
      "cell_type": "code",
      "execution_count": null,
      "metadata": {
        "colab": {
          "base_uri": "https://localhost:8080/"
        },
        "id": "Z8afABNBh1cW",
        "outputId": "f479ce52-6519-451e-b641-47b0d261721a"
      },
      "outputs": [
        {
          "output_type": "stream",
          "name": "stdout",
          "text": [
            "Describe : \n",
            "           VendorID  passenger_count  trip_distance   RatecodeID  PULocationID  \\\n",
            "count  1000.000000      1000.000000    1000.000000  1000.000000   1000.000000   \n",
            "mean      1.505000         2.527000       7.760560     2.451000     25.590000   \n",
            "std       0.500225         1.120056       4.238151     1.119309     14.528488   \n",
            "min       1.000000         1.000000       0.510000     1.000000      1.000000   \n",
            "25%       1.000000         2.000000       4.185000     1.000000     13.000000   \n",
            "50%       2.000000         3.000000       7.490000     2.000000     25.000000   \n",
            "75%       2.000000         4.000000      11.550000     3.000000     38.000000   \n",
            "max       2.000000         4.000000      14.990000     4.000000     50.000000   \n",
            "\n",
            "       DOLocationID  payment_type  fare_amount        extra  mta_tax  \\\n",
            "count   1000.000000    1000.00000  1000.000000  1000.000000   1000.0   \n",
            "mean      25.936000       1.52000    28.182210     2.440790      0.5   \n",
            "std       14.027854       0.49985    12.890274     1.444489      0.0   \n",
            "min        1.000000       1.00000     5.050000     0.010000      0.5   \n",
            "25%       14.000000       1.00000    17.430000     1.210000      0.5   \n",
            "50%       26.000000       2.00000    28.235000     2.385000      0.5   \n",
            "75%       38.000000       2.00000    39.435000     3.672500      0.5   \n",
            "max       50.000000       2.00000    49.980000     4.990000      0.5   \n",
            "\n",
            "        tip_amount  tolls_amount  improvement_surcharge  total_amount  \\\n",
            "count  1000.000000   1000.000000           1.000000e+03   1000.000000   \n",
            "mean      7.479790      5.017970           3.000000e-01     41.866060   \n",
            "std       4.330284      2.859255           5.664971e-15     18.823381   \n",
            "min       0.020000      0.010000           3.000000e-01     10.140000   \n",
            "25%       3.725000      2.517500           3.000000e-01     25.437500   \n",
            "50%       7.545000      5.010000           3.000000e-01     41.535000   \n",
            "75%      11.200000      7.490000           3.000000e-01     58.007500   \n",
            "max      14.980000      9.990000           3.000000e-01     74.910000   \n",
            "\n",
            "       congestion_surcharge  tip_percent  \n",
            "count           1000.000000  1000.000000  \n",
            "mean               1.276440    23.518196  \n",
            "std                0.719474    21.610502  \n",
            "min                0.000000     0.029985  \n",
            "25%                0.650000     8.696885  \n",
            "50%                1.265000    17.528948  \n",
            "75%                1.920000    30.177419  \n",
            "max                2.500000   132.777233  \n",
            "Size 19000\n",
            "Outliers in 'tip_percent':\n",
            " 19      89.334342\n",
            "25      79.436804\n",
            "30      72.216749\n",
            "46      96.480490\n",
            "48     102.147971\n",
            "          ...    \n",
            "887     88.316357\n",
            "934     74.785867\n",
            "976     83.472328\n",
            "977     65.651180\n",
            "980     67.304931\n",
            "Name: tip_percent, Length: 67, dtype: float64\n"
          ]
        }
      ],
      "source": [
        "import pandas as pd\n",
        "import dask.dataframe as ds\n",
        "import numpy as np\n",
        "import matplotlib.pyplot as plt\n",
        "import seaborn as sns\n",
        "\n",
        "df = pd.read_csv('/content/nyc_taxi_data.csv')\n",
        "df.head()\n",
        "\n",
        "print(\"Describe : \\n\",df.describe())\n",
        "print(\"Size\",df.size)\n",
        "\n",
        "# Check for outliers (example using the 'trip_distance' column)\n",
        "# You'll likely want to adjust this based on your specific data and columns\n",
        "def find_outliers_iqr(column):\n",
        "    q1 = column.quantile(0.25)\n",
        "    q3 = column.quantile(0.75)\n",
        "    iqr = q3 - q1\n",
        "    lower_bound = q1 - 1.5 * iqr\n",
        "    upper_bound = q3 + 1.5 * iqr\n",
        "    outliers = column[(column < lower_bound) | (column > upper_bound)]\n",
        "    return outliers\n",
        "\n",
        "# Get a list of numerical columns\n",
        "numerical_cols = df.select_dtypes(include=['number']).columns\n",
        "\n",
        "for column in numerical_cols:\n",
        "    outliers = find_outliers_iqr(df[column])\n",
        "    if len(outliers) > 0:\n",
        "        print(f\"Outliers in '{column}':\\n\", outliers)\n"
      ]
    },
    {
      "cell_type": "code",
      "execution_count": null,
      "metadata": {
        "colab": {
          "base_uri": "https://localhost:8080/"
        },
        "id": "O5nUMp27Q02h",
        "outputId": "2bf74980-4f99-4380-a3c5-8eb7ffbfb2ea"
      },
      "outputs": [
        {
          "output_type": "stream",
          "name": "stdout",
          "text": [
            "Index(['vendorid', 'tpep_pickup_datetime', 'tpep_dropoff_datetime',\n",
            "       'passenger_count', 'trip_distance', 'ratecodeid', 'store_and_fwd_flag',\n",
            "       'pulocationid', 'dolocationid', 'payment_type', 'fare_amount', 'extra',\n",
            "       'mta_tax', 'tip_amount', 'tolls_amount', 'improvement_surcharge',\n",
            "       'total_amount', 'congestion_surcharge', 'tip_percent'],\n",
            "      dtype='object')\n",
            "  tpep_pickup_datetime tpep_dropoff_datetime  passenger_count  trip_distance  \\\n",
            "0      1/12/2023 17:19        1/1/2023 21:59                4          12.16   \n",
            "1      1/14/2023 20:27       1/17/2023 13:01                3          13.14   \n",
            "2       1/9/2023 15:25       1/21/2023 13:55                1          13.58   \n",
            "3       1/3/2023 14:58        1/6/2023 18:23                3           9.12   \n",
            "4       1/8/2023 10:34       1/22/2023 11:31                1           4.81   \n",
            "\n",
            "   ratecodeid store_and_fwd_flag  pulocationid  dolocationid  payment_type  \\\n",
            "0           2                  Y            13            28             2   \n",
            "1           2                  Y            13             2             1   \n",
            "2           1                  N            14            21             1   \n",
            "3           2                  Y            27            44             1   \n",
            "4           3                  N            48            12             2   \n",
            "\n",
            "   fare_amount  extra  mta_tax  tip_amount  tolls_amount  \\\n",
            "0        39.70   2.58      0.5        0.18          0.64   \n",
            "1        40.29   1.28      0.5        1.93          4.55   \n",
            "2        15.19   1.82      0.5       13.72          1.37   \n",
            "3        25.58   0.87      0.5        6.37          5.10   \n",
            "4        43.89   2.28      0.5        8.73          2.74   \n",
            "\n",
            "   improvement_surcharge  total_amount  congestion_surcharge  tip_percent  \\\n",
            "0                    0.3         50.65                  0.24     0.355380   \n",
            "1                    0.3         35.36                  1.42     5.458145   \n",
            "2                    0.3         41.42                  1.66    33.124095   \n",
            "3                    0.3         56.47                  2.06    11.280326   \n",
            "4                    0.3         14.60                  0.11    59.794521   \n",
            "\n",
            "   store_and_fwd_flag_encoded  \n",
            "0                           1  \n",
            "1                           1  \n",
            "2                           0  \n",
            "3                           1  \n",
            "4                           0  \n"
          ]
        }
      ],
      "source": [
        "df.columns = [x.lower() for x in df.columns]\n",
        "print(df.columns)\n",
        "# Drop the 'vendor_id' column\n",
        "df = df.drop('vendorid', axis=1)\n",
        "\n",
        "# Convert the categorical column 'store_and_fwd_flag'\n",
        "df['store_and_fwd_flag_encoded'] = df['store_and_fwd_flag'].map({'N': 0, 'Y': 1})\n",
        "\n",
        "print(df.head())\n"
      ]
    },
    {
      "cell_type": "code",
      "execution_count": null,
      "metadata": {
        "colab": {
          "base_uri": "https://localhost:8080/"
        },
        "id": "9-cuQpI2RA3A",
        "outputId": "fc1e4311-cdf6-4c9c-82df-c9e671d3aaa0"
      },
      "outputs": [
        {
          "output_type": "stream",
          "name": "stdout",
          "text": [
            "Outliers in 'tip_percent':\n",
            "19     89.334342\n",
            "25     79.436804\n",
            "30     72.216749\n",
            "46     96.480490\n",
            "48    102.147971\n",
            "Name: tip_percent, dtype: float64\n"
          ]
        }
      ],
      "source": [
        "# Get a list of numerical columns\n",
        "numerical_cols = df.select_dtypes(include=['number']).columns\n",
        "\n",
        "for column in numerical_cols:\n",
        "    outliers = find_outliers_iqr(df[column])\n",
        "    if not outliers.empty:\n",
        "        print(f\"Outliers in '{column}':\\n{outliers.head()}\")\n",
        "\n"
      ]
    },
    {
      "cell_type": "code",
      "execution_count": null,
      "metadata": {
        "colab": {
          "base_uri": "https://localhost:8080/"
        },
        "id": "07aWAVswWdbg",
        "outputId": "7c129dfd-3746-4102-8904-a23abc983ab5"
      },
      "outputs": [
        {
          "output_type": "stream",
          "name": "stdout",
          "text": [
            "Selected features: Index(['passenger_count', 'trip_distance', 'ratecodeid', 'payment_type',\n",
            "       'extra', 'tip_amount', 'tolls_amount', 'congestion_surcharge',\n",
            "       'tip_percent', 'store_and_fwd_flag_encoded'],\n",
            "      dtype='object')\n"
          ]
        }
      ],
      "source": [
        "\n",
        "from sklearn.model_selection import train_test_split\n",
        "from sklearn.feature_selection import RFE\n",
        "from sklearn.linear_model import LinearRegression\n",
        "from sklearn.model_selection import train_test_split\n",
        "from sklearn.feature_selection import RFE\n",
        "from sklearn.linear_model import LogisticRegression\n",
        "\n",
        "df = df.dropna()\n",
        "df = df.drop(['tpep_pickup_datetime', 'tpep_dropoff_datetime',\n",
        "             'store_and_fwd_flag'], axis=1)\n",
        "\n",
        "X = df.drop('fare_amount', axis=1)\n",
        "y = df['fare_amount']\n",
        "\n",
        "# Split the data into train and test sets\n",
        "X_train, X_test, y_train, y_test = train_test_split(X, y, test_size=0.2, random_state=42)\n",
        "\n",
        "# Further split the train set into train and validation sets\n",
        "X_train, X_val, y_train, y_val = train_test_split(X_train, y_train, test_size=0.25, random_state=42)\n",
        "\n",
        "# You can replace LogisticRegression with other models (e.g., RandomForestRegressor) depending on your task\n",
        "estimator = LinearRegression()#00)  # Increase max_iter if needed for convergence\n",
        "selector = RFE(estimator, n_features_to_select=10, step=1)  # Select top 10 features\n",
        "selector = selector.fit(X_train, y_train)\n",
        "\n",
        "# Get the selected features\n",
        "selected_features = X_train.columns[selector.support_]\n",
        "print(\"Selected features:\", selected_features)\n",
        "\n",
        "# Create new datasets with only the selected features\n",
        "X_train_selected = X_train[selected_features]\n",
        "X_val_selected = X_val[selected_features]\n",
        "X_test_selected = X_test[selected_features]"
      ]
    },
    {
      "cell_type": "code",
      "execution_count": null,
      "metadata": {
        "colab": {
          "base_uri": "https://localhost:8080/"
        },
        "id": "h-oI-c5dYfFs",
        "outputId": "6042ed7b-9227-4518-bd65-516d8adc7e8d"
      },
      "outputs": [
        {
          "output_type": "stream",
          "name": "stdout",
          "text": [
            "Linear Regression MSE: 168.10694253587798\n",
            "Random Forest MSE: 179.76495674420002\n",
            "XGBoost MSE: 234.58133948732888\n",
            "Best Model based on MSE: Linear Regression\n"
          ]
        }
      ],
      "source": [
        "from sklearn.ensemble import RandomForestRegressor\n",
        "from xgboost import XGBRegressor\n",
        "from sklearn.metrics import mean_squared_error\n",
        "from sklearn.metrics import r2_score\n",
        "from sklearn.linear_model import LinearRegression\n",
        "\n",
        "# Create models\n",
        "linear_model = LinearRegression()\n",
        "rf_model = RandomForestRegressor()\n",
        "xgb_model = XGBRegressor()\n",
        "\n",
        "# Train models\n",
        "linear_model.fit(X_train_selected, y_train)\n",
        "rf_model.fit(X_train_selected, y_train)\n",
        "xgb_model.fit(X_train_selected, y_train)\n",
        "\n",
        "# Predict on test set\n",
        "linear_pred = linear_model.predict(X_test_selected)\n",
        "rf_pred = rf_model.predict(X_test_selected)\n",
        "xgb_pred = xgb_model.predict(X_test_selected)\n",
        "\n",
        "# Evaluate models using Mean Squared Error (MSE)\n",
        "linear_mse = mean_squared_error(y_test, linear_pred)\n",
        "rf_mse = mean_squared_error(y_test, rf_pred)\n",
        "xgb_mse = mean_squared_error(y_test, xgb_pred)\n",
        "\n",
        "# Print the MSE for each model\n",
        "print(\"Linear Regression MSE:\", linear_mse)\n",
        "print(\"Random Forest MSE:\", rf_mse)\n",
        "print(\"XGBoost MSE:\", xgb_mse)\n",
        "\n",
        "# Determine the best model based on MSE\n",
        "models = {\n",
        "    \"Linear Regression\": linear_mse,\n",
        "    \"Random Forest\": rf_mse,\n",
        "    \"XGBoost\": xgb_mse\n",
        "}\n",
        "best_model = min(models, key=models.get)\n",
        "print(\"Best Model based on MSE:\", best_model)\n"
      ]
    },
    {
      "cell_type": "code",
      "execution_count": null,
      "metadata": {
        "colab": {
          "base_uri": "https://localhost:8080/"
        },
        "id": "ehOHVVGwnnkc",
        "outputId": "b97ab41e-b221-4357-f039-fef5ab857570"
      },
      "outputs": [
        {
          "output_type": "stream",
          "name": "stdout",
          "text": [
            "Best parameters for Random Forest: {'max_depth': 5, 'min_samples_split': 5, 'n_estimators': 200}\n",
            "Best MSE for Random Forest: 166.29650584542256\n",
            "Best parameters for XGBoost: {'learning_rate': 0.001, 'max_depth': 3, 'n_estimators': 100}\n",
            "Best MSE for XGBoost: 164.34150971024863\n",
            "Best Random Forest MSE: 175.04379859136714\n",
            "Best XGBoost MSE: 167.42186701201368\n",
            "Best Model (Tuned) based on MSE: XGBoost (Tuned)\n"
          ]
        }
      ],
      "source": [
        "\n",
        "from sklearn.model_selection import GridSearchCV\n",
        "\n",
        "# Define parameter grids for each model\n",
        "param_grid_linear = {}  # No hyperparameters to tune for Linear Regression\n",
        "\n",
        "param_grid_rf = {\n",
        "    'n_estimators': [100, 200, 300],\n",
        "    'max_depth': [None, 5, 10],\n",
        "    'min_samples_split': [2, 5, 10]\n",
        "}\n",
        "\n",
        "param_grid_xgb = {\n",
        "    'n_estimators': [100, 200, 300],\n",
        "    'max_depth': [3, 5, 7],\n",
        "    'learning_rate': [0.1, 0.01, 0.001]\n",
        "}\n",
        "\n",
        "# Perform GridSearchCV for each model\n",
        "grid_search_rf = GridSearchCV(estimator=rf_model, param_grid=param_grid_rf, cv=5, scoring='neg_mean_squared_error')\n",
        "grid_search_rf.fit(X_train_selected, y_train)\n",
        "\n",
        "grid_search_xgb = GridSearchCV(estimator=xgb_model, param_grid=param_grid_xgb, cv=5, scoring='neg_mean_squared_error')\n",
        "grid_search_xgb.fit(X_train_selected, y_train)\n",
        "\n",
        "\n",
        "# Print the best parameters and score for each model\n",
        "print(\"Best parameters for Random Forest:\", grid_search_rf.best_params_)\n",
        "print(\"Best MSE for Random Forest:\", -grid_search_rf.best_score_)\n",
        "\n",
        "print(\"Best parameters for XGBoost:\", grid_search_xgb.best_params_)\n",
        "print(\"Best MSE for XGBoost:\", -grid_search_xgb.best_score_)\n",
        "\n",
        "\n",
        "# Train the models with the best hyperparameters\n",
        "best_rf_model = RandomForestRegressor(**grid_search_rf.best_params_)\n",
        "best_rf_model.fit(X_train_selected, y_train)\n",
        "\n",
        "best_xgb_model = XGBRegressor(**grid_search_xgb.best_params_)\n",
        "best_xgb_model.fit(X_train_selected, y_train)\n",
        "\n",
        "# Predict on the test set using the best models\n",
        "best_rf_pred = best_rf_model.predict(X_test_selected)\n",
        "best_xgb_pred = best_xgb_model.predict(X_test_selected)\n",
        "\n",
        "# Evaluate the best models\n",
        "best_rf_mse = mean_squared_error(y_test, best_rf_pred)\n",
        "best_xgb_mse = mean_squared_error(y_test, best_xgb_pred)\n",
        "\n",
        "print(\"Best Random Forest MSE:\", best_rf_mse)\n",
        "print(\"Best XGBoost MSE:\", best_xgb_mse)\n",
        "\n",
        "# Determine the best model based on the tuned MSE\n",
        "models_tuned = {\n",
        "    \"Linear Regression\": linear_mse,  # Keep the original Linear Regression MSE\n",
        "    \"Random Forest (Tuned)\": best_rf_mse,\n",
        "    \"XGBoost (Tuned)\": best_xgb_mse\n",
        "}\n",
        "best_model_tuned = min(models_tuned, key=models_tuned.get)\n",
        "print(\"Best Model (Tuned) based on MSE:\", best_model_tuned)\n"
      ]
    },
    {
      "cell_type": "code",
      "execution_count": null,
      "metadata": {
        "colab": {
          "base_uri": "https://localhost:8080/"
        },
        "id": "W318EdSulMCD",
        "outputId": "e9d912e0-5b97-4bf7-a281-5cf580069f69"
      },
      "outputs": [
        {
          "output_type": "stream",
          "name": "stdout",
          "text": [
            "Test MSE: 172.0716014779335\n",
            "Test R-squared: -0.0052057184277505275\n",
            "Best model exported to xgb_model.pkl\n"
          ]
        }
      ],
      "source": [
        "# Predict on the validation set using the best model\n",
        "y_pred = best_xgb_model.predict(X_val_selected)\n",
        "\n",
        "# Evaluate the best model on the test set\n",
        "test_mse = mean_squared_error(y_val, y_pred)\n",
        "test_r2 = r2_score(y_val, y_pred)\n",
        "\n",
        "print(\"Test MSE:\", test_mse)\n",
        "print(\"Test R-squared:\", test_r2)\n",
        "\n",
        "# Export the best model using pickle\n",
        "import pickle\n",
        "\n",
        "filename = 'xgb_model.pkl'\n",
        "pickle.dump(best_xgb_model, open(filename, 'wb'))\n",
        "\n",
        "print(f\"Best model exported to {filename}\")\n"
      ]
    },
    {
      "cell_type": "code",
      "source": [
        "# prompt: export the X_val as json file\n",
        "\n",
        "import json\n",
        "\n",
        "# Assuming X_val is your DataFrame\n",
        "X_val_json = X_val.to_json(orient='records')\n",
        "\n",
        "with open('X_val.json', 'w') as f:\n",
        "  f.write(X_val_json)\n",
        "\n",
        "from google.colab import files\n",
        "files.download('X_val.json')\n"
      ],
      "metadata": {
        "colab": {
          "base_uri": "https://localhost:8080/",
          "height": 17
        },
        "id": "RSeC4VNtH1cu",
        "outputId": "32420997-a618-490e-d541-974441fb087c"
      },
      "execution_count": null,
      "outputs": [
        {
          "output_type": "display_data",
          "data": {
            "text/plain": [
              "<IPython.core.display.Javascript object>"
            ],
            "application/javascript": [
              "\n",
              "    async function download(id, filename, size) {\n",
              "      if (!google.colab.kernel.accessAllowed) {\n",
              "        return;\n",
              "      }\n",
              "      const div = document.createElement('div');\n",
              "      const label = document.createElement('label');\n",
              "      label.textContent = `Downloading \"${filename}\": `;\n",
              "      div.appendChild(label);\n",
              "      const progress = document.createElement('progress');\n",
              "      progress.max = size;\n",
              "      div.appendChild(progress);\n",
              "      document.body.appendChild(div);\n",
              "\n",
              "      const buffers = [];\n",
              "      let downloaded = 0;\n",
              "\n",
              "      const channel = await google.colab.kernel.comms.open(id);\n",
              "      // Send a message to notify the kernel that we're ready.\n",
              "      channel.send({})\n",
              "\n",
              "      for await (const message of channel.messages) {\n",
              "        // Send a message to notify the kernel that we're ready.\n",
              "        channel.send({})\n",
              "        if (message.buffers) {\n",
              "          for (const buffer of message.buffers) {\n",
              "            buffers.push(buffer);\n",
              "            downloaded += buffer.byteLength;\n",
              "            progress.value = downloaded;\n",
              "          }\n",
              "        }\n",
              "      }\n",
              "      const blob = new Blob(buffers, {type: 'application/binary'});\n",
              "      const a = document.createElement('a');\n",
              "      a.href = window.URL.createObjectURL(blob);\n",
              "      a.download = filename;\n",
              "      div.appendChild(a);\n",
              "      a.click();\n",
              "      div.remove();\n",
              "    }\n",
              "  "
            ]
          },
          "metadata": {}
        },
        {
          "output_type": "display_data",
          "data": {
            "text/plain": [
              "<IPython.core.display.Javascript object>"
            ],
            "application/javascript": [
              "download(\"download_de14581e-eafa-4b21-88e8-2603624fcf3e\", \"X_val.json\", 61914)"
            ]
          },
          "metadata": {}
        }
      ]
    }
  ],
  "metadata": {
    "colab": {
      "provenance": [],
      "gpuType": "T4"
    },
    "kernelspec": {
      "display_name": "Python 3",
      "name": "python3"
    },
    "language_info": {
      "name": "python"
    },
    "accelerator": "GPU"
  },
  "nbformat": 4,
  "nbformat_minor": 0
}